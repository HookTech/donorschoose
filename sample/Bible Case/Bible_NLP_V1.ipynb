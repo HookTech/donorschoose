{
 "cells": [
  {
   "cell_type": "code",
   "execution_count": 2,
   "metadata": {
    "scrolled": true
   },
   "outputs": [],
   "source": [
    "import numpy as np\n",
    "import re\n",
    "import nltk\n",
    "from nltk.corpus import stopwords\n",
    "# nltk.download('stopwords')"
   ]
  },
  {
   "cell_type": "code",
   "execution_count": 9,
   "metadata": {
    "scrolled": true
   },
   "outputs": [
    {
     "data": {
      "text/plain": [
       "str"
      ]
     },
     "execution_count": 9,
     "metadata": {},
     "output_type": "execute_result"
    }
   ],
   "source": [
    "raw = open(\"Bible_King_James_Version.txt\",\"r\").read()\n",
    "type(raw)"
   ]
  },
  {
   "cell_type": "code",
   "execution_count": 10,
   "metadata": {},
   "outputs": [
    {
     "name": "stdout",
     "output_type": "stream",
     "text": [
      "patten:^Genesis|^Exodus|^Leviticus|^Numbers|^Deuteronomy|^Joshua|^Judges|^Ruth|^Samuel|^Kings|^Chronicles|^Ezra|^Nehemiah|^Esther|^Job|^Psalms|^Proverbs|^Ecclesiastes|^Song|^Isaiah|^Jeremiah|^Lamentations|^Ezekiel|^Daniel|^Hosea|^Joel|^Amos|^Obadiah|^Jonah|^Micah|^Nahum|^Habakkuk|^Zephaniah|^Haggai|^Zechariah|^Malachi|^Matthew|^Mark|^Luke|^John|^Acts|^Romans|^Corinthians|^Galatians|^Ephesians|^Philippians|^Colossians|^Thessalonians|^Timothy|^Titus|^Philemon|^Hebrews|^James|^Peter|^John|^Jude|^Revelation\n",
      "totle len:131843\n",
      "possible title len:66\n",
      "['Genesis\\n', 'Exodus\\n', 'Leviticus\\n', 'Numbers\\n', 'Deuteronomy\\n', 'Joshua\\n', 'Judges\\n', 'Ruth\\n', 'Samuel\\n', 'Samuel\\n', 'Kings\\n', 'Kings\\n', 'Chronicles\\n', 'Chronicles\\n', 'Ezra\\n', 'Nehemiah\\n', 'Esther\\n', 'Job\\n', 'Psalms\\n', 'Ecclesiastes;\\n', 'Song of Solomon\\n', 'Isaiah\\n', 'Jeremiah\\n', 'Lamentations\\n', 'Ezekiel\\n', 'Daniel\\n', 'Hosea\\n', 'Joel\\n', 'Amos\\n', 'Obadiah\\n', 'Jonah\\n', 'Micah\\n', 'Nahum\\n', 'Habakkuk\\n', 'Zephaniah\\n', 'Haggai\\n', 'Zechariah\\n', 'Malachi\\n', 'Esther\\n', 'Matthew\\n', 'Mark\\n', 'Luke\\n', 'John\\n', 'Acts of the Apostles\\n', 'Romans\\n', 'Corinthians\\n', 'Corinthians\\n', 'Galatians\\n', 'Ephesians\\n', 'Philippians\\n', 'Colossians\\n', 'Thessalonians\\n', 'Thessalonians\\n', 'Timothy\\n', 'Timothy\\n', 'Titus\\n', 'Philemon\\n', 'Hebrews\\n', 'James\\n', 'Peter\\n', 'Peter\\n', 'John\\n', 'John\\n', 'John\\n', 'Jude\\n', 'Revelation\\n']\n"
     ]
    }
   ],
   "source": [
    "book_old_testament_possible_titles = str('Genesis Exodus Leviticus Numbers Deuteronomy Joshua Judges Ruth Samuel Kings Chronicles Ezra Nehemiah Esther Job Psalms Proverbs Ecclesiastes Song Isaiah Jeremiah Lamentations Ezekiel Daniel Hosea Joel Amos Obadiah Jonah Micah Nahum Habakkuk Zephaniah Haggai Zechariah Malachi').split()\n",
    "book_new_testament_possible_titles = str('Matthew Mark Luke John Acts Romans Corinthians Galatians Ephesians Philippians Colossians Thessalonians Timothy Titus Philemon Hebrews James Peter John Jude Revelation').split()\n",
    "NIV_version_possible_titles = book_old_testament_possible_titles + book_new_testament_possible_titles\n",
    "possible_patten = '^' + '|^'.join(NIV_version_possible_titles)\n",
    "print('patten:' + str(possible_patten))\n",
    "raw_line_set = open(\"Bible_King_James_Version.txt\",\"r\").readlines()\n",
    "def fetch_NIV_version_title(line):\n",
    "    return re.search(pattern=possible_patten,string=line) is not None\n",
    "possible_titles = list(filter(fetch_NIV_version_title,raw_line_set))\n",
    "print('possible title len:' + str(len(possible_titles)))\n",
    "print(possible_titles)"
   ]
  },
  {
   "cell_type": "code",
   "execution_count": 12,
   "metadata": {},
   "outputs": [
    {
     "data": {
      "text/plain": [
       "1454"
      ]
     },
     "execution_count": 12,
     "metadata": {},
     "output_type": "execute_result"
    }
   ],
   "source": [
    "patn = '__________________________________________________________________'\n",
    "# patn = '[cC]hapter(\\s+)[1-9]{1,3}'\n",
    "raw_chapters = re.split(pattern=patn,string=raw)\n",
    "len(raw_chapters)"
   ]
  },
  {
   "cell_type": "code",
   "execution_count": 13,
   "metadata": {},
   "outputs": [
    {
     "name": "stdout",
     "output_type": "stream",
     "text": [
      "1334\n",
      "1334\n"
     ]
    }
   ],
   "source": [
    "def fetch_chapter_index(raw_chp):\n",
    "    return re.search(pattern='[cC]hapter(\\s+)(.*)(\\s?)[0-9]{1,3}',string=raw_chp) is not None\n",
    "def chapter_content_clean(raw_chp):\n",
    "    letters_only = re.sub('[^a-zA-Z0-9]', ' ', raw_chp)\n",
    "    words = letters_only.lower().split()\n",
    "    stopwords_eng = set(stopwords.words(\"english\") + ['chapter'])\n",
    "    useful_words = [x for x in words if not x in stopwords_eng]\n",
    "    # Combine words into a paragraph again\n",
    "    useful_words_string = ' '.join(useful_words)\n",
    "    return(useful_words_string)\n",
    "chapter_index_set = list(filter(fetch_chapter_index,raw_chapters))\n",
    "clean_chapters = list(map(chapter_content_clean,chapter_index_set))\n",
    "print(len(chapter_index_set))\n",
    "print(len(clean_chapters))"
   ]
  },
  {
   "cell_type": "code",
   "execution_count": 6,
   "metadata": {},
   "outputs": [],
   "source": [
    "# print(chapter_index_set[1333])\n",
    "# print(clean_chapters[1333])\n",
    "# print(raw_chapters[7:9])\n",
    "# print(clean_chapters[6:8])"
   ]
  },
  {
   "cell_type": "code",
   "execution_count": 14,
   "metadata": {},
   "outputs": [
    {
     "data": {
      "text/plain": [
       "77"
      ]
     },
     "execution_count": 14,
     "metadata": {},
     "output_type": "execute_result"
    }
   ],
   "source": [
    "len(filter(lambda x: re.search(pattern='([cC]hapter(\\s+)([a-zA-Z]*)(\\s?)1\\n\\n)',string=x) is not None, chapter_index_set))"
   ]
  }
 ],
 "metadata": {
  "kernelspec": {
   "display_name": "Python 2",
   "language": "python",
   "name": "python2"
  },
  "language_info": {
   "codemirror_mode": {
    "name": "ipython",
    "version": 2
   },
   "file_extension": ".py",
   "mimetype": "text/x-python",
   "name": "python",
   "nbconvert_exporter": "python",
   "pygments_lexer": "ipython2",
   "version": "2.7.11"
  }
 },
 "nbformat": 4,
 "nbformat_minor": 2
}
