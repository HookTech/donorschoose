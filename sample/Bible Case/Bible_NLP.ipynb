{
 "cells": [
  {
   "cell_type": "code",
   "execution_count": 12,
   "metadata": {},
   "outputs": [
    {
     "name": "stdout",
     "output_type": "stream",
     "text": [
      "[nltk_data] Downloading package stopwords to /Users/philo/nltk_data...\n",
      "[nltk_data]   Package stopwords is already up-to-date!\n"
     ]
    },
    {
     "data": {
      "text/plain": [
       "True"
      ]
     },
     "execution_count": 12,
     "metadata": {},
     "output_type": "execute_result"
    }
   ],
   "source": [
    "import numpy as np\n",
    "import re\n",
    "import nltk\n",
    "from nltk.corpus import stopwords\n",
    "nltk.download('stopwords')"
   ]
  },
  {
   "cell_type": "code",
   "execution_count": 13,
   "metadata": {},
   "outputs": [
    {
     "data": {
      "text/plain": [
       "str"
      ]
     },
     "execution_count": 13,
     "metadata": {},
     "output_type": "execute_result"
    }
   ],
   "source": [
    "raw = open(\"Bible_King_James_Version.txt\",\"r\").read()\n",
    "type(raw)"
   ]
  },
  {
   "cell_type": "code",
   "execution_count": 14,
   "metadata": {},
   "outputs": [
    {
     "data": {
      "text/plain": [
       "2099"
      ]
     },
     "execution_count": 14,
     "metadata": {},
     "output_type": "execute_result"
    }
   ],
   "source": [
    "raw_chapters = re.split(pattern='[cC]hapter(\\s+)[1-9]{1,3}',string=raw)\n",
    "len(raw_chapters)"
   ]
  },
  {
   "cell_type": "code",
   "execution_count": 21,
   "metadata": {},
   "outputs": [
    {
     "data": {
      "text/plain": [
       "1047"
      ]
     },
     "execution_count": 21,
     "metadata": {},
     "output_type": "execute_result"
    }
   ],
   "source": [
    "def chapter_content_clean(raw_c):\n",
    "    if len(raw_c.strip()) == 0:\n",
    "        return ''\n",
    "    letters_only = re.sub('[^a-zA-Z]', ' ', raw_c)\n",
    "    words = letters_only.lower().split()\n",
    "    stopwords_eng = set(stopwords.words(\"english\"))\n",
    "    useful_words = [x for x in words if not x in stopwords_eng]\n",
    "    # Combine words into a paragraph again\n",
    "    useful_words_string = ' '.join(useful_words)\n",
    "    return(useful_words_string)\n",
    "clean_chapters = map(chapter_content_clean,raw_chapters)\n",
    "clean_chapters = filter(lambda x:len(x) != 0,clean_chapters)\n",
    "len(clean_chapters)"
   ]
  },
  {
   "cell_type": "code",
   "execution_count": 22,
   "metadata": {
    "scrolled": true
   },
   "outputs": [
    {
     "name": "stdout",
     "output_type": "stream",
     "text": [
      "\n",
      "\n",
      "   Thus the heavens and the earth were finished, and all the host of them.\n",
      "\n",
      "   ^2And on the seventh day God ended his work which he had made; and he\n",
      "   rested on the seventh day from all his work which he had made.\n",
      "\n",
      "   ^3And God blessed the seventh day, and sanctified it: because that in\n",
      "   it he had rested from all his work which God created and made.\n",
      "\n",
      "   ^4These are the generations of the heavens and of the earth when they\n",
      "   were created, in the day that the Lord God made the earth and the\n",
      "   heavens,\n",
      "\n",
      "   ^5And every plant of the field before it was in the earth, and every\n",
      "   herb of the field before it grew: for the Lord God had not caused it to\n",
      "   rain upon the earth, and there was not a man to till the ground.\n",
      "\n",
      "   ^6But there went up a mist from the earth, and watered the whole face\n",
      "   of the ground.\n",
      "\n",
      "   ^7And the Lord God formed man of the dust of the ground, and breathed\n",
      "   into his nostrils the breath of life; and man became a living soul.\n",
      "\n",
      "   ^8And the Lord God planted a garden eastward in Eden; and there he put\n",
      "   the man whom he had formed.\n",
      "\n",
      "   ^9And out of the ground made the Lord God to grow every tree that is\n",
      "   pleasant to the sight, and good for food; the tree of life also in the\n",
      "   midst of the garden, and the tree of knowledge of good and evil.\n",
      "\n",
      "   ^10And a river went out of Eden to water the garden; and from thence it\n",
      "   was parted, and became into four heads.\n",
      "\n",
      "   ^11The name of the first is Pison: that is it which compasseth the\n",
      "   whole land of Havilah, where there is gold;\n",
      "\n",
      "   ^12And the gold of that land is good: there is bdellium and the onyx\n",
      "   stone.\n",
      "\n",
      "   ^13And the name of the second river is Gihon: the same is it that\n",
      "   compasseth the whole land of Ethiopia.\n",
      "\n",
      "   ^14And the name of the third river is Hiddekel: that is it which goeth\n",
      "   toward the east of Assyria. And the fourth river is Euphrates.\n",
      "\n",
      "   ^15And the Lord God took the man, and put him into the garden of Eden\n",
      "   to dress it and to keep it.\n",
      "\n",
      "   ^16And the Lord God commanded the man, saying, Of every tree of the\n",
      "   garden thou mayest freely eat:\n",
      "\n",
      "   ^17But of the tree of the knowledge of good and evil, thou shalt not\n",
      "   eat of it: for in the day that thou eatest thereof thou shalt surely\n",
      "   die.\n",
      "\n",
      "   ^18And the Lord God said, It is not good that the man should be alone;\n",
      "   I will make him an help meet for him.\n",
      "\n",
      "   ^19And out of the ground the Lord God formed every beast of the field,\n",
      "   and every fowl of the air; and brought them unto Adam to see what he\n",
      "   would call them: and whatsoever Adam called every living creature, that\n",
      "   was the name thereof.\n",
      "\n",
      "   ^20And Adam gave names to all cattle, and to the fowl of the air, and\n",
      "   to every beast of the field; but for Adam there was not found an help\n",
      "   meet for him.\n",
      "\n",
      "   ^21And the Lord God caused a deep sleep to fall upon Adam, and he\n",
      "   slept: and he took one of his ribs, and closed up the flesh instead\n",
      "   thereof;\n",
      "\n",
      "   ^22And the rib, which the Lord God had taken from man, made he a woman,\n",
      "   and brought her unto the man.\n",
      "\n",
      "   ^23And Adam said, This is now bone of my bones, and flesh of my flesh:\n",
      "   she shall be called Woman, because she was taken out of Man.\n",
      "\n",
      "   ^24Therefore shall a man leave his father and his mother, and shall\n",
      "   cleave unto his wife: and they shall be one flesh.\n",
      "\n",
      "   ^25And they were both naked, the man and his wife, and were not\n",
      "   ashamed.\n",
      "     __________________________________________________________________\n",
      "\n",
      "    \n",
      "thus heavens earth finished host seventh day god ended work made rested seventh day work made god blessed seventh day sanctified rested work god created made generations heavens earth created day lord god made earth heavens every plant field earth every herb field grew lord god caused rain upon earth man till ground went mist earth watered whole face ground lord god formed man dust ground breathed nostrils breath life man became living soul lord god planted garden eastward eden put man formed ground made lord god grow every tree pleasant sight good food tree life also midst garden tree knowledge good evil river went eden water garden thence parted became four heads name first pison compasseth whole land havilah gold gold land good bdellium onyx stone name second river gihon compasseth whole land ethiopia name third river hiddekel goeth toward east assyria fourth river euphrates lord god took man put garden eden dress keep lord god commanded man saying every tree garden thou mayest freely eat tree knowledge good evil thou shalt eat day thou eatest thereof thou shalt surely die lord god said good man alone make help meet ground lord god formed every beast field every fowl air brought unto adam see would call whatsoever adam called every living creature name thereof adam gave names cattle fowl air every beast field adam found help meet lord god caused deep sleep fall upon adam slept took one ribs closed flesh instead thereof rib lord god taken man made woman brought unto man adam said bone bones flesh flesh shall called woman taken man therefore shall man leave father mother shall cleave unto wife shall one flesh naked man wife ashamed\n"
     ]
    }
   ],
   "source": [
    "print raw_chapters[4]\n",
    "print clean_chapters[2]"
   ]
  }
 ],
 "metadata": {
  "kernelspec": {
   "display_name": "Python 2",
   "language": "python",
   "name": "python2"
  },
  "language_info": {
   "codemirror_mode": {
    "name": "ipython",
    "version": 2
   },
   "file_extension": ".py",
   "mimetype": "text/x-python",
   "name": "python",
   "nbconvert_exporter": "python",
   "pygments_lexer": "ipython2",
   "version": "2.7.11"
  }
 },
 "nbformat": 4,
 "nbformat_minor": 2
}
