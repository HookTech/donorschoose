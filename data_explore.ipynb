{
 "cells": [
  {
   "cell_type": "code",
   "execution_count": null,
   "metadata": {},
   "outputs": [],
   "source": [
    "import numpy as np\n",
    "import pandas as pd\n",
    "import matplotlib.pyplot as plt\n",
    "import os"
   ]
  },
  {
   "cell_type": "code",
   "execution_count": null,
   "metadata": {},
   "outputs": [],
   "source": [
    "donations_file_path = os.getcwd() + '/io/Donations.csv'\n",
    "projects_file_path = os.getcwd() + '/io/Projects.csv'\n",
    "chunk_size=10**5\n",
    "donations_table = pd.read_csv(donations_file_path,sep=',',header=0,keep_default_na=True,date_parser=['Donation Received Date'])\n",
    "projects_table = pd.read_csv(projects_file_path,sep=',',header=0,keep_default_na=True,chunksize=chunk_size)\n"
   ]
  },
  {
   "cell_type": "code",
   "execution_count": null,
   "metadata": {},
   "outputs": [],
   "source": [
    "# donations_table.set_index(keys=['Project ID','Donation ID'], drop=True, append=False, inplace=True)"
   ]
  },
  {
   "cell_type": "code",
   "execution_count": null,
   "metadata": {},
   "outputs": [],
   "source": [
    "# del donations_table\n",
    "i = 0\n",
    "for chunck in projects_table:\n",
    "    projects_head_chunck = chunck\n",
    "    break"
   ]
  },
  {
   "cell_type": "code",
   "execution_count": null,
   "metadata": {},
   "outputs": [],
   "source": [
    "# print projects_head_chunck.columns\n",
    "print projects_head_chunck.iloc[0]\n",
    "print donations_table.iloc[0]"
   ]
  },
  {
   "cell_type": "code",
   "execution_count": null,
   "metadata": {},
   "outputs": [],
   "source": [
    "#assign series ID to new columns in projects_head_chunck\n",
    "f=len(projects_head_chunck)\n",
    "g=list(range(1,f+1))\n",
    "projects_head_chunck['project_id']=np.NaN\n",
    "g=pd.Series(g)\n",
    "projects_head_chunck['project_id']=g.values"
   ]
  },
  {
   "cell_type": "code",
   "execution_count": null,
   "metadata": {},
   "outputs": [],
   "source": []
  }
 ],
 "metadata": {
  "kernelspec": {
   "display_name": "Python 2",
   "language": "python",
   "name": "python2"
  },
  "language_info": {
   "codemirror_mode": {
    "name": "ipython",
    "version": 2
   },
   "file_extension": ".py",
   "mimetype": "text/x-python",
   "name": "python",
   "nbconvert_exporter": "python",
   "pygments_lexer": "ipython2",
   "version": "2.7.11"
  }
 },
 "nbformat": 4,
 "nbformat_minor": 2
}
