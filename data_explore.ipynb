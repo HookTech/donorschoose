{
 "cells": [
  {
   "cell_type": "code",
   "execution_count": null,
   "metadata": {},
   "outputs": [],
   "source": [
    "import numpy as np\n",
    "import pandas as pd\n",
    "import matplotlib.pyplot as plt\n",
    "import os"
   ]
  },
  {
   "cell_type": "code",
   "execution_count": null,
   "metadata": {},
   "outputs": [],
   "source": [
    "donations_file_path = os.getcwd() + '/io/Donations.csv'\n",
    "projects_file_path = os.getcwd() + '/io/Projects.csv'\n",
    "donors_file_path = os.getcwd() + '/io/Donors.csv'\n",
    "chunk_size=10**6\n",
    "donations_table = pd.read_csv(donations_file_path,sep=',',header=0,keep_default_na=True,chunksize=chunk_size)\n",
    "projects_table = pd.read_csv(projects_file_path,sep=',',header=0,keep_default_na=True,chunksize=chunk_size)\n",
    "donors_table = pd.read_csv(donors_file_path,sep=',',header=0,keep_default_na=True,chunksize=chunk_size)"
   ]
  },
  {
   "cell_type": "code",
   "execution_count": null,
   "metadata": {},
   "outputs": [],
   "source": [
    "# del donations_table\n",
    "for chunck in projects_table:\n",
    "    projects_head_chunck = chunck\n",
    "    break\n",
    "for chunck in donations_table:\n",
    "    donations_head_chunck = chunck\n",
    "    break\n",
    "for chunck in donors_table:\n",
    "    donors_head_chunck = chunck\n",
    "    break\n",
    "# print(projects_head_chunck.iloc[0])\n",
    "# print(donations_head_chunck.iloc[0])\n",
    "# print(donors_head_chunck.iloc[0])"
   ]
  },
  {
   "cell_type": "code",
   "execution_count": null,
   "metadata": {},
   "outputs": [],
   "source": [
    "#assign series ID to new columns in projects_head_chunck\n",
    "f=len(projects_head_chunck)\n",
    "g=list(range(1,f+1))\n",
    "projects_head_chunck['project_id']=np.NaN\n",
    "g=pd.Series(g)\n",
    "projects_head_chunck['project_id']=g.values"
   ]
  },
  {
   "cell_type": "code",
   "execution_count": null,
   "metadata": {},
   "outputs": [],
   "source": [
    "merged_donations_table_piece = donations_head_chunck.merge(projects_head_chunck,on=\"Project ID\",how=\"inner\")\n",
    "merged_donations_table_piece = merged_donations_table_piece.drop([\"Project ID\"],axis=1)\n",
    "colsList = list(merged_donations_table_piece)\n",
    "# print(colsList)\n",
    "colsList.insert(0,colsList.pop(-1))\n",
    "# print(colsList)\n",
    "# colsList[0],colsList[-1] = colsList[-1],colsList[0]\n",
    "merged_donations_table_piece=merged_donations_table_piece.reindex(columns=colsList)\n",
    "merged_donations_table_piece = merged_donations_table_piece.merge(donors_head_chunck,on=\"Donor ID\",how=\"inner\")\n",
    "print(merged_donations_table_piece.shape)\n",
    "# print(merged_donations_table_piece.columns)"
   ]
  },
  {
   "cell_type": "code",
   "execution_count": null,
   "metadata": {},
   "outputs": [],
   "source": [
    "donation_id=merged_donations_table_piece['Donation ID']\n",
    "donor_id=merged_donations_table_piece['Donor ID']\n",
    "project_id=merged_donations_table_piece['project_id']\n",
    "print(donation_id.unique())\n",
    "print(donor_id.is_unique)\n",
    "print(project_id.is_unique)\n"
   ]
  },
  {
   "cell_type": "code",
   "execution_count": null,
   "metadata": {},
   "outputs": [],
   "source": [
    "donor_city_counts=merged_donations_table_piece['Donor City'].value_counts()\n",
    "donor_city_counts_head=donor_city_counts[:10]\n",
    "donor_city_counts_head.plot(kind='bar')"
   ]
  },
  {
   "cell_type": "code",
   "execution_count": null,
   "metadata": {},
   "outputs": [],
   "source": [
    "merged_donations_table_piece['Project Subject Category Tree'].value_counts()[:10].plot(kind='bar')"
   ]
  },
  {
   "cell_type": "code",
   "execution_count": null,
   "metadata": {},
   "outputs": [],
   "source": [
    "merged_donations_table_piece.index"
   ]
  },
  {
   "cell_type": "code",
   "execution_count": null,
   "metadata": {},
   "outputs": [],
   "source": [
    "merged_donations_table_piece.groupby('Donor City').aggregate(sum)"
   ]
  },
  {
   "cell_type": "code",
   "execution_count": null,
   "metadata": {},
   "outputs": [],
   "source": []
  }
 ],
 "metadata": {
  "kernelspec": {
   "display_name": "Python 2",
   "language": "python",
   "name": "python2"
  },
  "language_info": {
   "codemirror_mode": {
    "name": "ipython",
    "version": 2
   },
   "file_extension": ".py",
   "mimetype": "text/x-python",
   "name": "python",
   "nbconvert_exporter": "python",
   "pygments_lexer": "ipython2",
   "version": "2.7.11"
  }
 },
 "nbformat": 4,
 "nbformat_minor": 2
}
